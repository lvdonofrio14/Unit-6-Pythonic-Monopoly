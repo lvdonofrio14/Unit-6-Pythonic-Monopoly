{
 "cells": [
  {
   "cell_type": "markdown",
   "metadata": {},
   "source": [
    "# San Francisco Rental Prices Dashboard\n",
    "\n",
    "In this notebook, you will compile the visualizations from the previous analysis into functions that can be used for a Panel dashboard."
   ]
  },
  {
   "cell_type": "code",
   "execution_count": 13,
   "metadata": {},
   "outputs": [],
   "source": [
    "# imports\n",
    "import panel as pn\n",
    "pn.extension('plotly')\n",
    "import plotly.express as px\n",
    "import pandas as pd\n",
    "import hvplot.pandas\n",
    "import matplotlib.pyplot as plt\n",
    "import os\n",
    "from pathlib import Path\n",
    "from dotenv import load_dotenv"
   ]
  },
  {
   "cell_type": "code",
   "execution_count": 14,
   "metadata": {},
   "outputs": [],
   "source": [
    "# Read the Mapbox API key\n",
    "load_dotenv()\n",
    "map_box_api = os.getenv(\"mapbox\")\n",
    "px.set_mapbox_access_token(map_box_api)"
   ]
  },
  {
   "cell_type": "markdown",
   "metadata": {},
   "source": [
    "# Import Data"
   ]
  },
  {
   "cell_type": "code",
   "execution_count": 15,
   "metadata": {},
   "outputs": [],
   "source": [
    "# Import the necessary CSVs to Pandas DataFrames\n",
    "file_path = Path(\"Data/sfo_neighborhoods_census_data.csv\")\n",
    "sfo_df = pd.read_csv(file_path, index_col=\"year\")\n",
    "\n",
    "file_path_2 = Path('Data/neighborhoods_coordinates.csv')\n",
    "location_data = pd.read_csv(file_path_2)"
   ]
  },
  {
   "cell_type": "markdown",
   "metadata": {},
   "source": [
    "- - -"
   ]
  },
  {
   "cell_type": "markdown",
   "metadata": {},
   "source": [
    "## Panel Visualizations\n",
    "\n",
    "In this section, you will copy the code for each plot type from your analysis notebook and place it into separate functions that Panel can use to create panes for the dashboard. \n",
    "\n",
    "These functions will convert the plot object to a Panel pane.\n",
    "\n",
    "Be sure to include any DataFrame transformation/manipulation code required along with the plotting code.\n",
    "\n",
    "Return a Panel pane object from each function that can be used to build the dashboard.\n",
    "\n",
    "Note: Remove any `.show()` lines from the code. We want to return the plots instead of showing them. The Panel dashboard will then display the plots."
   ]
  },
  {
   "cell_type": "code",
   "execution_count": 31,
   "metadata": {},
   "outputs": [],
   "source": [
    "def neighborhood_map():\n",
    "    \"\"\"Neighborhood Map.\"\"\"\n",
    "    neighborhood_avg = sfo_df.groupby(['neighborhood']).mean().reset_index().rename(columns = {'neighborhood' : 'Neighborhood'})\n",
    "    neighborhood_avg_2 = neighborhood_avg.reset_index().rename(columns = {'neighborhood' : 'Neighborhood'})\n",
    "    location_data_2 = pd.merge(location_data, neighborhood_avg_2, on = 'Neighborhood')\n",
    "    return px.scatter_mapbox(\n",
    "        location_data_2,\n",
    "         lat='Lat',\n",
    "         lon='Lon',\n",
    "         size='sale_price_sqr_foot',\n",
    "         color='gross_rent',\n",
    "         hover_name='Neighborhood',\n",
    "         zoom=10)\n"
   ]
  },
  {
   "cell_type": "code",
   "execution_count": 45,
   "metadata": {},
   "outputs": [],
   "source": [
    "# Define Panel Visualization Functions\n",
    "def housing_units_per_year():\n",
    "    \"\"\"Housing Units Per Year.\"\"\"\n",
    "    housing_units = sfo_df['housing_units'].groupby('year').mean()\n",
    "    return housing_units.hvplot.bar(\n",
    "        x = 'year',\n",
    "        y = 'housing_units',\n",
    "        xlabel = 'Housing Units',\n",
    "        ylabel = 'Year',\n",
    "        title = 'Mean Housing Units Per Year',\n",
    "        ylim = (370000, 385000) ).opts(yformatter = '%0f')\n",
    "\n",
    "\n",
    "def average_gross_rent():\n",
    "    \"\"\"Average Gross Rent in San Francisco Per Year.\"\"\"\n",
    "    avg_gross_rent = sfo_df[['sale_price_sqr_foot','gross_rent']].groupby('year').mean()\n",
    "    return avg_gross_rent.hvplot.line(\n",
    "    title='Average Monthly Rent',\n",
    "    xlabel = 'Year',\n",
    "    ylabel = 'Gross Rent')\n",
    "\n",
    "\n",
    "\n",
    "def average_sales_price():\n",
    "    \"\"\"Average Sales Price Per Year.\"\"\"\n",
    "    sfo_avg_data = sfo_df[['sale_price_sqr_foot','gross_rent']].groupby('year').mean()\n",
    "    avg_sales_price = sfo_avg_data['sale_price_sqr_foot']\n",
    "    return avg_sales_price.hvplot.line(\n",
    "    title = 'Avergae Sale Price Per Square Foot',\n",
    "    xlabel = 'Year',\n",
    "    ylabel = 'Average Sale Price')\n",
    "    \n",
    "   \n",
    "\n",
    "\n",
    "\n",
    "def average_price_by_neighborhood():\n",
    "    \"\"\"Average Prices by Neighborhood.\"\"\"\n",
    "    avg_neighborhood_price = sfo_df.groupby(['year', 'neighborhood']).mean().reset_index()\n",
    "    return avg_neighborhood_price.hvplot.line(\n",
    "    title = 'Average Price Per Sqr Foot',\n",
    "    x ='year',\n",
    "    y = 'sale_price_sqr_foot',\n",
    "    groupby= 'neighborhood',\n",
    "    line_color= 'darkmagenta')\n",
    "    \n",
    "    \n",
    "\n",
    "\n",
    "\n",
    "def top_most_expensive_neighborhoods():\n",
    "    \"\"\"Top 10 Most Expensive Neighborhoods.\"\"\"\n",
    "    top_10_exspensive = sfo_df.groupby('neighborhood').mean().nlargest(10,'sale_price_sqr_foot')\n",
    "    return top_10_exspensive.hvplot.bar(\n",
    "        y='sale_price_sqr_foot',\n",
    "        x = 'neighborhood',\n",
    "        title = 'Most Expensive Neighborhoods',\n",
    "        rot=90,\n",
    "        ylim=(600, 950))\n",
    "\n",
    "    \n",
    "\n",
    "\n",
    "def most_expensive_neighborhoods_rent_sales():\n",
    "    \"\"\"Comparison of Rent and Sales Prices of Most Expensive Neighborhoods.\"\"\"   \n",
    "    most_expensive_rent_sales = sfo_df.groupby(['year', 'neighborhood']).mean().reset_index()\n",
    "    top_10_plot = most_expensive_rent_sales[['sale_price_sqr_foot', 'gross_rent', 'neighborhood', 'year']] \n",
    "    return top_10_plot.hvplot.bar(\n",
    "        x = 'year',\n",
    "        groupby = 'neighborhood',\n",
    "        rot = 90,\n",
    "        title= 'SFOs 10 Most Expensive Neighborhoods',\n",
    "        xlabel='') \n",
    "\n",
    "\n",
    "\n",
    "def neighborhood_map():\n",
    "    \"\"\"Neighborhood Map.\"\"\"\n",
    "    neighborhood_avg = sfo_df.groupby(['neighborhood']).mean().reset_index().rename(columns = {'neighborhood' : 'Neighborhood'})\n",
    "    neighborhood_avg_2 = neighborhood_avg.reset_index().rename(columns = {'neighborhood' : 'Neighborhood'})\n",
    "    location_data_2 = pd.merge(location_data, neighborhood_avg_2, on = 'Neighborhood')\n",
    "    return px.scatter_mapbox(\n",
    "        location_data_2,\n",
    "         lat='Lat',\n",
    "         lon='Lon',\n",
    "         size='sale_price_sqr_foot',\n",
    "         color='gross_rent',\n",
    "         hover_name='Neighborhood',\n",
    "         zoom=10)\n",
    "\n"
   ]
  },
  {
   "cell_type": "markdown",
   "metadata": {},
   "source": [
    "## Panel Dashboard\n",
    "\n",
    "In this section, you will combine all of the plots into a single dashboard view using Panel. Be creative with your dashboard design!"
   ]
  },
  {
   "cell_type": "code",
   "execution_count": 71,
   "metadata": {},
   "outputs": [],
   "source": [
    "full_list = pn.Row(housing_units_per_year,\n",
    "       average_gross_rent,\n",
    "       average_sales_price,\n",
    "       average_price_by_neighborhood,\n",
    "       top_most_expensive_neighborhoods,\n",
    "       most_expensive_neighborhoods_rent_sales,\n",
    "       neighborhood_map)\n",
    "\n",
    "# Create a Title for the Dashboard\n",
    "column = pn.Column('# Deep Dive on Upscale San Francisco Real Estate', tabs )\n",
    "\n",
    "\n",
    "# Create a tab layout for the dashboard\n",
    "tabs = pn.Tabs(('Housing Units Per Year', housing_units_per_year),\n",
    "              ('Average Gross Rent in San Francisco Per Year', average_gross_rent),\n",
    "              ('Average Sales Price Per Year', average_sales_price),\n",
    "              ('Average Prices by Neighborhood', average_price_by_neighborhood),\n",
    "              ('Top 10 Most Expensive Neighborhoods', top_most_expensive_neighborhoods),\n",
    "              ('Comparison of Rent and Sales', most_expensive_neighborhoods_rent_sales),\n",
    "              ('Neighborhood Map', neighborhood_map))\n",
    "\n"
   ]
  },
  {
   "cell_type": "code",
   "execution_count": 73,
   "metadata": {},
   "outputs": [
    {
     "data": {},
     "metadata": {},
     "output_type": "display_data"
    },
    {
     "data": {},
     "metadata": {},
     "output_type": "display_data"
    },
    {
     "data": {
      "application/vnd.holoviews_exec.v0+json": "",
      "text/html": [
       "<div id='5490'>\n",
       "\n",
       "\n",
       "\n",
       "\n",
       "\n",
       "  <div class=\"bk-root\" id=\"e51b831d-6626-4236-b434-9244b8904e2c\" data-root-id=\"5490\"></div>\n",
       "</div>\n",
       "<script type=\"application/javascript\">(function(root) {\n",
       "  function embed_document(root) {\n",
       "    var docs_json = {\"b29a396d-9668-49cd-a23b-1f88e130b49f\":{\"roots\":{\"references\":[{\"attributes\":{\"below\":[{\"id\":\"5946\"}],\"center\":[{\"id\":\"5948\"},{\"id\":\"5952\"}],\"left\":[{\"id\":\"5949\"}],\"margin\":[5,5,5,5],\"min_border_bottom\":10,\"min_border_left\":10,\"min_border_right\":10,\"min_border_top\":10,\"plot_height\":300,\"plot_width\":700,\"renderers\":[{\"id\":\"5973\"}],\"sizing_mode\":\"fixed\",\"title\":{\"id\":\"5938\"},\"toolbar\":{\"id\":\"5959\"},\"x_range\":{\"id\":\"5934\"},\"x_scale\":{\"id\":\"5942\"},\"y_range\":{\"id\":\"5562\"},\"y_scale\":{\"id\":\"5944\"}},\"id\":\"5937\",\"subtype\":\"Figure\",\"type\":\"Plot\"},{\"attributes\":{},\"id\":\"5743\",\"type\":\"BasicTicker\"},{\"attributes\":{\"children\":[{\"id\":\"5559\"},{\"id\":\"5560\"}],\"margin\":[0,0,0,0],\"name\":\"Column09797\"},\"id\":\"5558\",\"type\":\"Column\"},{\"attributes\":{\"fill_color\":{\"value\":\"#30a2da\"},\"top\":{\"field\":\"sale_price_sqr_foot\"},\"width\":{\"value\":0.8},\"x\":{\"field\":\"neighborhood\"}},\"id\":\"5904\",\"type\":\"VBar\"},{\"attributes\":{\"axis\":{\"id\":\"5746\"},\"dimension\":1,\"grid_line_color\":null,\"ticker\":null},\"id\":\"5749\",\"type\":\"Grid\"},{\"attributes\":{\"data_source\":{\"id\":\"5901\"},\"glyph\":{\"id\":\"5904\"},\"hover_glyph\":null,\"muted_glyph\":{\"id\":\"5906\"},\"nonselection_glyph\":{\"id\":\"5905\"},\"selection_glyph\":null,\"view\":{\"id\":\"5908\"}},\"id\":\"5907\",\"type\":\"GlyphRenderer\"},{\"attributes\":{},\"id\":\"5529\",\"type\":\"Selection\"},{\"attributes\":{\"source\":{\"id\":\"5829\"}},\"id\":\"5836\",\"type\":\"CDSView\"},{\"attributes\":{\"below\":[{\"id\":\"5881\"}],\"center\":[{\"id\":\"5883\"},{\"id\":\"5887\"}],\"left\":[{\"id\":\"5884\"}],\"margin\":[5,5,5,5],\"min_border_bottom\":10,\"min_border_left\":10,\"min_border_right\":10,\"min_border_top\":10,\"plot_height\":300,\"plot_width\":700,\"renderers\":[{\"id\":\"5907\"}],\"sizing_mode\":\"fixed\",\"title\":{\"id\":\"5873\"},\"toolbar\":{\"id\":\"5894\"},\"x_range\":{\"id\":\"5869\"},\"x_scale\":{\"id\":\"5877\"},\"y_range\":{\"id\":\"5731\"},\"y_scale\":{\"id\":\"5879\"}},\"id\":\"5872\",\"subtype\":\"Figure\",\"type\":\"Plot\"},{\"attributes\":{\"axis\":{\"id\":\"5742\"},\"grid_line_color\":null,\"ticker\":null},\"id\":\"5745\",\"type\":\"Grid\"},{\"attributes\":{\"margin\":[0,0,0,0],\"name\":\"Column09795\"},\"id\":\"5494\",\"type\":\"Column\"},{\"attributes\":{\"fill_alpha\":{\"value\":0.1},\"fill_color\":{\"value\":\"#30a2da\"},\"line_alpha\":{\"value\":0.1},\"top\":{\"field\":\"sale_price_sqr_foot\"},\"width\":{\"value\":0.8},\"x\":{\"field\":\"neighborhood\"}},\"id\":\"5905\",\"type\":\"VBar\"},{\"attributes\":{},\"id\":\"5747\",\"type\":\"BasicTicker\"},{\"attributes\":{\"axis_label\":\"Average Sale Price\",\"bounds\":\"auto\",\"formatter\":{\"id\":\"5773\"},\"major_label_orientation\":\"horizontal\",\"ticker\":{\"id\":\"5747\"}},\"id\":\"5746\",\"type\":\"LinearAxis\"},{\"attributes\":{\"text\":\"Most Expensive Neighborhoods\",\"text_color\":{\"value\":\"black\"},\"text_font_size\":{\"value\":\"12pt\"}},\"id\":\"5873\",\"type\":\"Title\"},{\"attributes\":{},\"id\":\"5816\",\"type\":\"SaveTool\"},{\"attributes\":{\"children\":[{\"id\":\"5565\"}],\"margin\":[0,0,0,0],\"name\":\"Row09899\"},\"id\":\"5560\",\"type\":\"Row\"},{\"attributes\":{\"active_drag\":\"auto\",\"active_inspect\":\"auto\",\"active_multi\":null,\"active_scroll\":\"auto\",\"active_tap\":\"auto\",\"tools\":[{\"id\":\"5498\"},{\"id\":\"5515\"},{\"id\":\"5516\"},{\"id\":\"5517\"},{\"id\":\"5518\"},{\"id\":\"5519\"}]},\"id\":\"5521\",\"type\":\"Toolbar\"},{\"attributes\":{\"callback\":null,\"renderers\":[{\"id\":\"5835\"}],\"tags\":[\"hv_created\"],\"tooltips\":[[\"year\",\"@{year}\"],[\"sale_price_sqr_foot\",\"@{sale_price_sqr_foot}\"]]},\"id\":\"5798\",\"type\":\"HoverTool\"},{\"attributes\":{},\"id\":\"5817\",\"type\":\"PanTool\"},{\"attributes\":{\"css_classes\":[\"markdown\"],\"margin\":[5,5,5,5],\"name\":\"Markdown11726\",\"text\":\"&lt;h1&gt;Deep Dive on Upscale San Francisco Real Estate&lt;/h1&gt;\"},\"id\":\"5491\",\"type\":\"panel.models.markup.HTML\"},{\"attributes\":{},\"id\":\"5909\",\"type\":\"CategoricalTickFormatter\"},{\"attributes\":{},\"id\":\"5820\",\"type\":\"ResetTool\"},{\"attributes\":{},\"id\":\"5818\",\"type\":\"WheelZoomTool\"},{\"attributes\":{\"fill_alpha\":{\"value\":0.1},\"fill_color\":{\"field\":\"Variable\",\"transform\":{\"id\":\"5966\"}},\"line_alpha\":{\"value\":0.1},\"top\":{\"field\":\"value\"},\"width\":{\"value\":0.8},\"x\":{\"field\":\"xoffsets\"}},\"id\":\"5971\",\"type\":\"VBar\"},{\"attributes\":{\"overlay\":{\"id\":\"5821\"}},\"id\":\"5819\",\"type\":\"BoxZoomTool\"},{\"attributes\":{\"margin\":[0,0,0,0],\"name\":\"Column09982\"},\"id\":\"5728\",\"type\":\"Column\"},{\"attributes\":{\"below\":[{\"id\":\"5574\"}],\"center\":[{\"id\":\"5577\"},{\"id\":\"5581\"}],\"left\":[{\"id\":\"5578\"}],\"margin\":[5,5,5,5],\"min_border_bottom\":10,\"min_border_left\":10,\"min_border_right\":10,\"min_border_top\":10,\"plot_height\":300,\"plot_width\":700,\"renderers\":[{\"id\":\"5605\"},{\"id\":\"5623\"}],\"right\":[{\"id\":\"5615\"}],\"sizing_mode\":\"fixed\",\"title\":{\"id\":\"5566\"},\"toolbar\":{\"id\":\"5588\"},\"x_range\":{\"id\":\"5561\"},\"x_scale\":{\"id\":\"5570\"},\"y_range\":{\"id\":\"5562\"},\"y_scale\":{\"id\":\"5572\"}},\"id\":\"5565\",\"subtype\":\"Figure\",\"type\":\"Plot\"},{\"attributes\":{\"axis\":{\"id\":\"5578\"},\"dimension\":1,\"grid_line_color\":null,\"ticker\":null},\"id\":\"5581\",\"type\":\"Grid\"},{\"attributes\":{},\"id\":\"5877\",\"type\":\"CategoricalScale\"},{\"attributes\":{},\"id\":\"5572\",\"type\":\"LinearScale\"},{\"attributes\":{\"source\":{\"id\":\"5763\"}},\"id\":\"5770\",\"type\":\"CDSView\"},{\"attributes\":{\"axis\":{\"id\":\"5881\"},\"grid_line_color\":null,\"ticker\":null},\"id\":\"5883\",\"type\":\"Grid\"},{\"attributes\":{},\"id\":\"5882\",\"type\":\"CategoricalTicker\"},{\"attributes\":{},\"id\":\"5968\",\"type\":\"Selection\"},{\"attributes\":{},\"id\":\"5879\",\"type\":\"LinearScale\"},{\"attributes\":{\"factors\":[\"Union Square District\",\"Merced Heights\",\"Miraloma Park\",\"Pacific Heights\",\"Westwood Park\",\"Telegraph Hill\",\"Presidio Heights\",\"Cow Hollow\",\"Potrero Hill\",\"South Beach\"],\"tags\":[[[\"neighborhood\",\"neighborhood\",null]]]},\"id\":\"5869\",\"type\":\"FactorRange\"},{\"attributes\":{\"line_color\":\"darkmagenta\",\"line_width\":2,\"x\":{\"field\":\"year\"},\"y\":{\"field\":\"sale_price_sqr_foot\"}},\"id\":\"5832\",\"type\":\"Line\"},{\"attributes\":{},\"id\":\"5750\",\"type\":\"SaveTool\"},{\"attributes\":{\"factors\":[[\"2010\",\"gross_rent\"],[\"2010\",\"sale_price_sqr_foot\"],[\"2011\",\"gross_rent\"],[\"2011\",\"sale_price_sqr_foot\"],[\"2012\",\"gross_rent\"],[\"2012\",\"sale_price_sqr_foot\"],[\"2013\",\"gross_rent\"],[\"2013\",\"sale_price_sqr_foot\"],[\"2014\",\"gross_rent\"],[\"2014\",\"sale_price_sqr_foot\"],[\"2015\",\"gross_rent\"],[\"2015\",\"sale_price_sqr_foot\"],[\"2016\",\"gross_rent\"],[\"2016\",\"sale_price_sqr_foot\"]],\"tags\":[[[\"year\",\"year\",null],[\"Variable\",\"Variable\",null]]]},\"id\":\"5934\",\"type\":\"FactorRange\"},{\"attributes\":{\"margin\":[20,20,20,20],\"min_width\":250,\"options\":[\"Alamo Square\",\"Anza Vista\",\"Bayview\",\"Buena Vista Park\",\"Central Richmond\",\"Central Sunset\",\"Corona Heights\",\"Cow Hollow\",\"Croker Amazon\",\"Diamond Heights\",\"Downtown \",\"Eureka Valley/Dolores Heights\",\"Excelsior\",\"Financial District North\",\"Financial District South\",\"Forest Knolls\",\"Glen Park\",\"Golden Gate Heights\",\"Haight Ashbury\",\"Hayes Valley\",\"Hunters Point\",\"Ingleside \",\"Inner Mission\",\"Inner Parkside\",\"Inner Richmond\",\"Inner Sunset\",\"Jordan Park/Laurel Heights\",\"Lake --The Presidio\",\"Lone Mountain\",\"Lower Pacific Heights\",\"Marina\",\"Miraloma Park\",\"Mission Bay\",\"Mission Dolores\",\"Mission Terrace\",\"Nob Hill\",\"Noe Valley\",\"Oceanview\",\"Outer Parkside\",\"Outer Richmond \",\"Outer Sunset\",\"Pacific Heights\",\"Park North\",\"Parkside\",\"Parnassus/Ashbury Heights\",\"Portola\",\"Potrero Hill\",\"Presidio Heights\",\"Russian Hill\",\"South Beach\",\"South of Market\",\"Sunnyside\",\"Telegraph Hill\",\"Twin Peaks\",\"Union Square District\",\"Van Ness/ Civic Center\",\"West Portal\",\"Western Addition\",\"Yerba Buena\",\"Bernal Heights \",\"Clarendon Heights\",\"Duboce Triangle\",\"Ingleside Heights\",\"North Beach\",\"North Waterfront\",\"Outer Mission\",\"Westwood Highlands\",\"Merced Heights\",\"Midtown Terrace\",\"Visitacion Valley\",\"Silver Terrace\",\"Westwood Park\",\"Bayview Heights\"],\"title\":\"neighborhood\",\"value\":\"Alamo Square\",\"width\":250},\"id\":\"6001\",\"type\":\"Select\"},{\"attributes\":{\"axis_label\":\"neighborhood\",\"bounds\":\"auto\",\"formatter\":{\"id\":\"5909\"},\"major_label_orientation\":1.5707963267948966,\"ticker\":{\"id\":\"5882\"}},\"id\":\"5881\",\"type\":\"CategoricalAxis\"},{\"attributes\":{},\"id\":\"5751\",\"type\":\"PanTool\"},{\"attributes\":{},\"id\":\"5754\",\"type\":\"ResetTool\"},{\"attributes\":{},\"id\":\"5752\",\"type\":\"WheelZoomTool\"},{\"attributes\":{},\"id\":\"5885\",\"type\":\"BasicTicker\"},{\"attributes\":{\"child\":{\"id\":\"5930\"},\"name\":\"Column10105\",\"title\":\"Comparison of Rent and Sales\"},\"id\":\"6003\",\"type\":\"Panel\"},{\"attributes\":{\"axis\":{\"id\":\"5884\"},\"dimension\":1,\"grid_line_color\":null,\"ticker\":null},\"id\":\"5887\",\"type\":\"Grid\"},{\"attributes\":{\"overlay\":{\"id\":\"5755\"}},\"id\":\"5753\",\"type\":\"BoxZoomTool\"},{\"attributes\":{\"children\":[{\"id\":\"5499\"}],\"margin\":[0,0,0,0],\"name\":\"Row09794\"},\"id\":\"5495\",\"type\":\"Row\"},{\"attributes\":{\"children\":[{\"id\":\"5862\"},{\"id\":\"5864\"}],\"margin\":[0,0,0,0],\"name\":\"Column10017\"},\"id\":\"5861\",\"type\":\"Column\"},{\"attributes\":{\"axis_label\":\"sale_price_sqr_foot\",\"bounds\":\"auto\",\"formatter\":{\"id\":\"5911\"},\"major_label_orientation\":\"horizontal\",\"ticker\":{\"id\":\"5885\"}},\"id\":\"5884\",\"type\":\"LinearAxis\"},{\"attributes\":{\"child\":{\"id\":\"5558\"},\"name\":\"Column09797\",\"title\":\"Average Gross Rent in San Francisco Per Year\"},\"id\":\"5726\",\"type\":\"Panel\"},{\"attributes\":{\"fill_alpha\":{\"value\":0.2},\"fill_color\":{\"value\":\"#30a2da\"},\"line_alpha\":{\"value\":0.2},\"top\":{\"field\":\"sale_price_sqr_foot\"},\"width\":{\"value\":0.8},\"x\":{\"field\":\"neighborhood\"}},\"id\":\"5906\",\"type\":\"VBar\"},{\"attributes\":{\"active_drag\":\"auto\",\"active_inspect\":\"auto\",\"active_multi\":null,\"active_scroll\":\"auto\",\"active_tap\":\"auto\",\"tools\":[{\"id\":\"5798\"},{\"id\":\"5816\"},{\"id\":\"5817\"},{\"id\":\"5818\"},{\"id\":\"5819\"},{\"id\":\"5820\"}]},\"id\":\"5822\",\"type\":\"Toolbar\"},{\"attributes\":{\"line_alpha\":0.1,\"line_color\":\"darkmagenta\",\"line_width\":2,\"x\":{\"field\":\"year\"},\"y\":{\"field\":\"sale_price_sqr_foot\"}},\"id\":\"5833\",\"type\":\"Line\"},{\"attributes\":{},\"id\":\"5902\",\"type\":\"Selection\"},{\"attributes\":{\"text\":\"Average Monthly Rent\",\"text_color\":{\"value\":\"black\"},\"text_font_size\":{\"value\":\"12pt\"}},\"id\":\"5566\",\"type\":\"Title\"},{\"attributes\":{},\"id\":\"5975\",\"type\":\"CategoricalTickFormatter\"},{\"attributes\":{},\"id\":\"5919\",\"type\":\"UnionRenderers\"},{\"attributes\":{\"bottom_units\":\"screen\",\"fill_alpha\":0.5,\"fill_color\":\"lightgrey\",\"left_units\":\"screen\",\"level\":\"overlay\",\"line_alpha\":1.0,\"line_color\":\"black\",\"line_dash\":[4,4],\"line_width\":2,\"right_units\":\"screen\",\"top_units\":\"screen\"},\"id\":\"5821\",\"type\":\"BoxAnnotation\"},{\"attributes\":{},\"id\":\"5570\",\"type\":\"LinearScale\"},{\"attributes\":{\"text\":\"Average Price Per Sqr Foot\",\"text_color\":{\"value\":\"black\"},\"text_font_size\":{\"value\":\"12pt\"}},\"id\":\"5800\",\"type\":\"Title\"},{\"attributes\":{\"children\":[{\"id\":\"5799\"},{\"id\":\"5861\"}],\"margin\":[0,0,0,0],\"name\":\"interactive09983\"},\"id\":\"5795\",\"type\":\"Row\"},{\"attributes\":{\"axis_label\":\"Year\",\"bounds\":\"auto\",\"formatter\":{\"id\":\"5595\"},\"major_label_orientation\":\"horizontal\",\"ticker\":{\"id\":\"5575\"}},\"id\":\"5574\",\"type\":\"LinearAxis\"},{\"attributes\":{\"source\":{\"id\":\"5901\"}},\"id\":\"5908\",\"type\":\"CDSView\"},{\"attributes\":{\"data\":{\"housing_units\":[372560,374507,376454,378401,380348,382295,384242],\"year\":[\"2010\",\"2011\",\"2012\",\"2013\",\"2014\",\"2015\",\"2016\"]},\"selected\":{\"id\":\"5529\"},\"selection_policy\":{\"id\":\"5548\"}},\"id\":\"5528\",\"type\":\"ColumnDataSource\"},{\"attributes\":{},\"id\":\"5771\",\"type\":\"BasicTickFormatter\"},{\"attributes\":{\"margin\":[5,5,5,5],\"name\":\"VSpacer10136\",\"sizing_mode\":\"stretch_height\"},\"id\":\"6002\",\"type\":\"Spacer\"},{\"attributes\":{\"child\":{\"id\":\"5792\"},\"name\":\"Column09984\",\"title\":\"Average Prices by Neighborhood\"},\"id\":\"5865\",\"type\":\"Panel\"},{\"attributes\":{},\"id\":\"5575\",\"type\":\"BasicTicker\"},{\"attributes\":{\"child\":{\"id\":\"5866\"},\"name\":\"Column10021\",\"title\":\"Top 10 Most Expensive Neighborhoods\"},\"id\":\"5929\",\"type\":\"Panel\"},{\"attributes\":{\"children\":[{\"id\":\"5728\"},{\"id\":\"5729\"}],\"margin\":[0,0,0,0],\"name\":\"Column09902\"},\"id\":\"5727\",\"type\":\"Column\"},{\"attributes\":{\"children\":[{\"id\":\"5933\"}],\"margin\":[0,0,0,0],\"name\":\"Row10138\"},\"id\":\"5932\",\"type\":\"Row\"},{\"attributes\":{\"axis\":{\"id\":\"5574\"},\"grid_line_color\":null,\"ticker\":null},\"id\":\"5577\",\"type\":\"Grid\"},{\"attributes\":{},\"id\":\"5888\",\"type\":\"SaveTool\"},{\"attributes\":{\"below\":[{\"id\":\"5808\"}],\"center\":[{\"id\":\"5811\"},{\"id\":\"5815\"}],\"left\":[{\"id\":\"5812\"}],\"margin\":[5,5,5,5],\"min_border_bottom\":10,\"min_border_left\":10,\"min_border_right\":10,\"min_border_top\":10,\"plot_height\":300,\"plot_width\":700,\"renderers\":[{\"id\":\"5835\"}],\"sizing_mode\":\"fixed\",\"title\":{\"id\":\"5800\"},\"toolbar\":{\"id\":\"5822\"},\"x_range\":{\"id\":\"5796\"},\"x_scale\":{\"id\":\"5804\"},\"y_range\":{\"id\":\"5731\"},\"y_scale\":{\"id\":\"5806\"}},\"id\":\"5799\",\"subtype\":\"Figure\",\"type\":\"Plot\"},{\"attributes\":{},\"id\":\"5584\",\"type\":\"WheelZoomTool\"},{\"attributes\":{},\"id\":\"5889\",\"type\":\"PanTool\"},{\"attributes\":{\"below\":[{\"id\":\"5742\"}],\"center\":[{\"id\":\"5745\"},{\"id\":\"5749\"}],\"left\":[{\"id\":\"5746\"}],\"margin\":[5,5,5,5],\"min_border_bottom\":10,\"min_border_left\":10,\"min_border_right\":10,\"min_border_top\":10,\"plot_height\":300,\"plot_width\":700,\"renderers\":[{\"id\":\"5769\"}],\"sizing_mode\":\"fixed\",\"title\":{\"id\":\"5734\"},\"toolbar\":{\"id\":\"5756\"},\"x_range\":{\"id\":\"5730\"},\"x_scale\":{\"id\":\"5738\"},\"y_range\":{\"id\":\"5731\"},\"y_scale\":{\"id\":\"5740\"}},\"id\":\"5733\",\"subtype\":\"Figure\",\"type\":\"Plot\"},{\"attributes\":{\"end\":2016.0,\"reset_end\":2016.0,\"reset_start\":2010.0,\"start\":2010.0,\"tags\":[[[\"year\",\"year\",null]]]},\"id\":\"5561\",\"type\":\"Range1d\"},{\"attributes\":{\"active_drag\":\"auto\",\"active_inspect\":\"auto\",\"active_multi\":null,\"active_scroll\":\"auto\",\"active_tap\":\"auto\",\"tools\":[{\"id\":\"5732\"},{\"id\":\"5750\"},{\"id\":\"5751\"},{\"id\":\"5752\"},{\"id\":\"5753\"},{\"id\":\"5754\"}]},\"id\":\"5756\",\"type\":\"Toolbar\"},{\"attributes\":{},\"id\":\"5892\",\"type\":\"ResetTool\"},{\"attributes\":{\"text\":\"Avergae Sale Price Per Square Foot\",\"text_color\":{\"value\":\"black\"},\"text_font_size\":{\"value\":\"12pt\"}},\"id\":\"5734\",\"type\":\"Title\"},{\"attributes\":{},\"id\":\"5890\",\"type\":\"WheelZoomTool\"},{\"attributes\":{},\"id\":\"5839\",\"type\":\"BasicTickFormatter\"},{\"attributes\":{},\"id\":\"5548\",\"type\":\"UnionRenderers\"},{\"attributes\":{\"end\":2016.0,\"reset_end\":2016.0,\"reset_start\":2010.0,\"start\":2010.0,\"tags\":[[[\"year\",\"year\",null]]]},\"id\":\"5730\",\"type\":\"Range1d\"},{\"attributes\":{\"overlay\":{\"id\":\"5893\"}},\"id\":\"5891\",\"type\":\"BoxZoomTool\"},{\"attributes\":{\"bottom_units\":\"screen\",\"fill_alpha\":0.5,\"fill_color\":\"lightgrey\",\"left_units\":\"screen\",\"level\":\"overlay\",\"line_alpha\":1.0,\"line_color\":\"black\",\"line_dash\":[4,4],\"line_width\":2,\"right_units\":\"screen\",\"top_units\":\"screen\"},\"id\":\"5755\",\"type\":\"BoxAnnotation\"},{\"attributes\":{\"child\":{\"id\":\"5727\"},\"name\":\"Column09902\",\"title\":\"Average Sales Price Per Year\"},\"id\":\"5791\",\"type\":\"Panel\"},{\"attributes\":{\"margin\":[5,5,5,5],\"name\":\"VSpacer10016\",\"sizing_mode\":\"stretch_height\"},\"id\":\"5864\",\"type\":\"Spacer\"},{\"attributes\":{\"data_source\":{\"id\":\"5829\"},\"glyph\":{\"id\":\"5832\"},\"hover_glyph\":null,\"muted_glyph\":{\"id\":\"5834\"},\"nonselection_glyph\":{\"id\":\"5833\"},\"selection_glyph\":null,\"view\":{\"id\":\"5836\"}},\"id\":\"5835\",\"type\":\"GlyphRenderer\"},{\"attributes\":{\"children\":[{\"id\":\"6000\"},{\"id\":\"6002\"}],\"margin\":[0,0,0,0],\"name\":\"Column10137\"},\"id\":\"5999\",\"type\":\"Column\"},{\"attributes\":{},\"id\":\"5579\",\"type\":\"BasicTicker\"},{\"attributes\":{\"line_alpha\":0.2,\"line_color\":\"darkmagenta\",\"line_width\":2,\"x\":{\"field\":\"year\"},\"y\":{\"field\":\"sale_price_sqr_foot\"}},\"id\":\"5834\",\"type\":\"Line\"},{\"attributes\":{\"axis_label\":\"Gross Rent\",\"bounds\":\"auto\",\"formatter\":{\"id\":\"5597\"},\"major_label_orientation\":\"horizontal\",\"ticker\":{\"id\":\"5579\"}},\"id\":\"5578\",\"type\":\"LinearAxis\"},{\"attributes\":{\"end\":950.0,\"reset_end\":733.2177371101802,\"reset_start\":306.3294011864627,\"start\":141.1976609302527,\"tags\":[[[\"sale_price_sqr_foot\",\"sale_price_sqr_foot\",null]]]},\"id\":\"5731\",\"type\":\"Range1d\"},{\"attributes\":{},\"id\":\"5837\",\"type\":\"BasicTickFormatter\"},{\"attributes\":{},\"id\":\"5804\",\"type\":\"LinearScale\"},{\"attributes\":{\"end\":4810.690068306854,\"reset_end\":4794.80965708199,\"reset_start\":-62.9062279018836,\"start\":-62.9062279018836,\"tags\":[[[\"value\",\"value\",null]]]},\"id\":\"5562\",\"type\":\"Range1d\"},{\"attributes\":{\"children\":[{\"id\":\"6001\"}],\"css_classes\":[\"panel-widget-box\"],\"margin\":[5,5,5,5],\"name\":\"WidgetBox10131\"},\"id\":\"6000\",\"type\":\"Column\"},{\"attributes\":{\"axis_label\":\"year\",\"bounds\":\"auto\",\"formatter\":{\"id\":\"5837\"},\"major_label_orientation\":\"horizontal\",\"ticker\":{\"id\":\"5809\"}},\"id\":\"5808\",\"type\":\"LinearAxis\"},{\"attributes\":{\"bottom_units\":\"screen\",\"fill_alpha\":0.5,\"fill_color\":\"lightgrey\",\"left_units\":\"screen\",\"level\":\"overlay\",\"line_alpha\":1.0,\"line_color\":\"black\",\"line_dash\":[4,4],\"line_width\":2,\"right_units\":\"screen\",\"top_units\":\"screen\"},\"id\":\"5520\",\"type\":\"BoxAnnotation\"},{\"attributes\":{},\"id\":\"5600\",\"type\":\"Selection\"},{\"attributes\":{},\"id\":\"5781\",\"type\":\"UnionRenderers\"},{\"attributes\":{\"line_alpha\":0.2,\"line_color\":\"#30a2da\",\"line_width\":2,\"x\":{\"field\":\"year\"},\"y\":{\"field\":\"sale_price_sqr_foot\"}},\"id\":\"5768\",\"type\":\"Line\"},{\"attributes\":{},\"id\":\"5806\",\"type\":\"LinearScale\"},{\"attributes\":{},\"id\":\"5773\",\"type\":\"BasicTickFormatter\"},{\"attributes\":{\"line_color\":\"#30a2da\",\"line_width\":2,\"x\":{\"field\":\"year\"},\"y\":{\"field\":\"sale_price_sqr_foot\"}},\"id\":\"5766\",\"type\":\"Line\"},{\"attributes\":{},\"id\":\"5764\",\"type\":\"Selection\"},{\"attributes\":{\"margin\":[0,0,0,0],\"name\":\"Column09900\"},\"id\":\"5559\",\"type\":\"Column\"},{\"attributes\":{\"data_source\":{\"id\":\"5763\"},\"glyph\":{\"id\":\"5766\"},\"hover_glyph\":null,\"muted_glyph\":{\"id\":\"5768\"},\"nonselection_glyph\":{\"id\":\"5767\"},\"selection_glyph\":null,\"view\":{\"id\":\"5770\"}},\"id\":\"5769\",\"type\":\"GlyphRenderer\"},{\"attributes\":{},\"id\":\"5809\",\"type\":\"BasicTicker\"},{\"attributes\":{},\"id\":\"5582\",\"type\":\"SaveTool\"},{\"attributes\":{\"line_alpha\":0.1,\"line_color\":\"#30a2da\",\"line_width\":2,\"x\":{\"field\":\"year\"},\"y\":{\"field\":\"sale_price_sqr_foot\"}},\"id\":\"5767\",\"type\":\"Line\"},{\"attributes\":{},\"id\":\"5583\",\"type\":\"PanTool\"},{\"attributes\":{\"axis\":{\"id\":\"5808\"},\"grid_line_color\":null,\"ticker\":null},\"id\":\"5811\",\"type\":\"Grid\"},{\"attributes\":{\"source\":{\"id\":\"5967\"}},\"id\":\"5974\",\"type\":\"CDSView\"},{\"attributes\":{\"margin\":[0,0,0,0],\"name\":\"Column10145\"},\"id\":\"6005\",\"type\":\"Column\"},{\"attributes\":{\"active_drag\":\"auto\",\"active_inspect\":\"auto\",\"active_multi\":null,\"active_scroll\":\"auto\",\"active_tap\":\"auto\",\"tools\":[{\"id\":\"5871\"},{\"id\":\"5888\"},{\"id\":\"5889\"},{\"id\":\"5890\"},{\"id\":\"5891\"},{\"id\":\"5892\"}]},\"id\":\"5894\",\"type\":\"Toolbar\"},{\"attributes\":{},\"id\":\"5586\",\"type\":\"ResetTool\"},{\"attributes\":{\"end\":2016.0,\"reset_end\":2016.0,\"reset_start\":2010.0,\"start\":2010.0,\"tags\":[[[\"year\",\"year\",null]]]},\"id\":\"5796\",\"type\":\"Range1d\"},{\"attributes\":{\"child\":{\"id\":\"6004\"},\"name\":\"Column10141\",\"title\":\"Neighborhood Map\"},\"id\":\"6009\",\"type\":\"Panel\"},{\"attributes\":{\"children\":[{\"id\":\"5937\"},{\"id\":\"5999\"}],\"margin\":[0,0,0,0],\"name\":\"interactive10104\"},\"id\":\"5933\",\"type\":\"Row\"},{\"attributes\":{\"data_source\":{\"id\":\"5967\"},\"glyph\":{\"id\":\"5970\"},\"hover_glyph\":null,\"muted_glyph\":{\"id\":\"5972\"},\"nonselection_glyph\":{\"id\":\"5971\"},\"selection_glyph\":null,\"view\":{\"id\":\"5974\"}},\"id\":\"5973\",\"type\":\"GlyphRenderer\"},{\"attributes\":{\"callback\":null,\"renderers\":[{\"id\":\"5973\"}],\"tags\":[\"hv_created\"],\"tooltips\":[[\"year\",\"@{year}\"],[\"Variable\",\"@{Variable}\"],[\"value\",\"@{value}\"]]},\"id\":\"5936\",\"type\":\"HoverTool\"},{\"attributes\":{\"factors\":[\"2010\",\"2011\",\"2012\",\"2013\",\"2014\",\"2015\",\"2016\"],\"tags\":[[[\"year\",\"year\",null]]]},\"id\":\"5496\",\"type\":\"FactorRange\"},{\"attributes\":{},\"id\":\"5738\",\"type\":\"LinearScale\"},{\"attributes\":{},\"id\":\"6031\",\"type\":\"UnionRenderers\"},{\"attributes\":{},\"id\":\"5813\",\"type\":\"BasicTicker\"},{\"attributes\":{\"end\":385000,\"reset_end\":385000,\"reset_start\":370000,\"start\":370000,\"tags\":[[[\"housing_units\",\"housing_units\",null]]]},\"id\":\"5497\",\"type\":\"Range1d\"},{\"attributes\":{\"overlay\":{\"id\":\"5587\"}},\"id\":\"5585\",\"type\":\"BoxZoomTool\"},{\"attributes\":{\"axis_label\":\"sale_price_sqr_foot\",\"bounds\":\"auto\",\"formatter\":{\"id\":\"5839\"},\"major_label_orientation\":\"horizontal\",\"ticker\":{\"id\":\"5813\"}},\"id\":\"5812\",\"type\":\"LinearAxis\"},{\"attributes\":{\"bottom_units\":\"screen\",\"fill_alpha\":0.5,\"fill_color\":\"lightgrey\",\"left_units\":\"screen\",\"level\":\"overlay\",\"line_alpha\":1.0,\"line_color\":\"black\",\"line_dash\":[4,4],\"line_width\":2,\"right_units\":\"screen\",\"top_units\":\"screen\"},\"id\":\"5893\",\"type\":\"BoxAnnotation\"},{\"attributes\":{\"children\":[{\"id\":\"5494\"},{\"id\":\"5495\"}],\"margin\":[0,0,0,0],\"name\":\"Column09671\"},\"id\":\"5493\",\"type\":\"Column\"},{\"attributes\":{\"axis_label\":\"Year\",\"bounds\":\"auto\",\"formatter\":{\"id\":\"5771\"},\"major_label_orientation\":\"horizontal\",\"ticker\":{\"id\":\"5743\"}},\"id\":\"5742\",\"type\":\"LinearAxis\"},{\"attributes\":{\"axis\":{\"id\":\"5812\"},\"dimension\":1,\"grid_line_color\":null,\"ticker\":null},\"id\":\"5815\",\"type\":\"Grid\"},{\"attributes\":{},\"id\":\"5851\",\"type\":\"UnionRenderers\"},{\"attributes\":{\"format\":\"%0f\"},\"id\":\"5536\",\"type\":\"PrintfTickFormatter\"},{\"attributes\":{\"data\":{\"sale_price_sqr_foot\":{\"__ndarray__\":\"Dkc7WO0yckCafszcbwhxQIGRs5ot42ZAJzog0LQ8eEAWMinKGEd+QI0V5FDt0IJAVCHcmLVPdUA=\",\"dtype\":\"float64\",\"order\":\"little\",\"shape\":[7]},\"year\":[2010,2011,2012,2013,2014,2015,2016]},\"selected\":{\"id\":\"5830\"},\"selection_policy\":{\"id\":\"5851\"}},\"id\":\"5829\",\"type\":\"ColumnDataSource\"},{\"attributes\":{},\"id\":\"5740\",\"type\":\"LinearScale\"},{\"attributes\":{},\"id\":\"5911\",\"type\":\"BasicTickFormatter\"},{\"attributes\":{\"children\":[{\"id\":\"6005\"},{\"id\":\"6006\"}],\"margin\":[0,0,0,0],\"name\":\"Column10141\"},\"id\":\"6004\",\"type\":\"Column\"},{\"attributes\":{},\"id\":\"5506\",\"type\":\"LinearScale\"},{\"attributes\":{\"source\":{\"id\":\"5599\"}},\"id\":\"5606\",\"type\":\"CDSView\"},{\"attributes\":{},\"id\":\"5519\",\"type\":\"ResetTool\"},{\"attributes\":{\"label\":{\"value\":\"sale_price_sqr_foot\"},\"renderers\":[{\"id\":\"5605\"}]},\"id\":\"5616\",\"type\":\"LegendItem\"},{\"attributes\":{\"client_comm_id\":\"86f4dd6ba39848d7a97f126f8edd689f\",\"comm_id\":\"554e2599724f47c4902da54340160eca\",\"plot_id\":\"5490\"},\"id\":\"6163\",\"type\":\"panel.models.comm_manager.CommManager\"},{\"attributes\":{\"label\":{\"value\":\"gross_rent\"},\"renderers\":[{\"id\":\"5623\"}]},\"id\":\"5635\",\"type\":\"LegendItem\"},{\"attributes\":{\"line_color\":\"#fc4f30\",\"line_width\":2,\"x\":{\"field\":\"year\"},\"y\":{\"field\":\"value\"}},\"id\":\"5620\",\"type\":\"Line\"},{\"attributes\":{\"data\":{\"hovertext\":[[\"Alamo Square\",\"Anza Vista\",\"Bayview\",\"Bayview Heights\",\"Buena Vista Park\",\"Central Richmond\",\"Central Sunset\",\"Clarendon Heights\",\"Corona Heights\",\"Cow Hollow\",\"Croker Amazon\",\"Diamond Heights\",\"Duboce Triangle\",\"Eureka Valley/Dolores Heights\",\"Excelsior\",\"Financial District North\",\"Financial District South\",\"Forest Knolls\",\"Glen Park\",\"Golden Gate Heights\",\"Haight Ashbury\",\"Hayes Valley\",\"Hunters Point\",\"Ingleside Heights\",\"Inner Mission\",\"Inner Parkside\",\"Inner Richmond\",\"Inner Sunset\",\"Jordan Park/Laurel Heights\",\"Lake --The Presidio\",\"Lone Mountain\",\"Lower Pacific Heights\",\"Marina\",\"Merced Heights\",\"Midtown Terrace\",\"Miraloma Park\",\"Mission Bay\",\"Mission Dolores\",\"Mission Terrace\",\"Nob Hill\",\"Noe Valley\",\"North Beach\",\"North Waterfront\",\"Oceanview\",\"Outer Mission\",\"Outer Parkside\",\"Outer Sunset\",\"Pacific Heights\",\"Park North\",\"Parkside\",\"Parnassus/Ashbury Heights\",\"Portola\",\"Potrero Hill\",\"Presidio Heights\",\"Russian Hill\",\"Silver Terrace\",\"South Beach\",\"South of Market\",\"Sunnyside\",\"Telegraph Hill\",\"Twin Peaks\",\"Union Square District\",\"Van Ness/ Civic Center\",\"Visitacion Valley\",\"West Portal\",\"Western Addition\",\"Westwood Highlands\",\"Westwood Park\",\"Yerba Buena\"]],\"lat\":[{\"__ndarray__\":\"LV+X4T/lQkB1AwXeyeNCQBmto6oJ3kJAvqQxWkfdQkA0DB8RU+JCQFbxRuaR40JAlWBxOPPfQkD430p2bOBCQHEDPj+M5EJA6DBfXoDlQkA/xty1hNxCQDZxcr9D3UJAw9hCkIPiQkDxaOOIteBCQL6kMVpH3UJAjGfQ0D/lQkCMZ9DQP+VCQAyOklfn4EJANnFyv0PdQkB7n6pCA+FCQMuhRbbz4UJAy6FFtvPhQkDidf2C3dxCQHiXi/hO3EJAxvmbUIjgQkCVYHE4899CQAd7E0Ny4kJAlWBxOPPfQkBxAz4/jORCQIOLFTWY5kJAXW3F/rLjQkDoMF9egOVCQIP6ljld5kJAY7SOqibcQkD430p2bOBCQOAtkKD43UJAf59x4UDkQkCO6QlLPOBCQDZxcr9D3UJA6DBfXoDlQkD430p2bOBCQApoImx45kJACmgibHjmQkBjtI6qJtxCQD/G3LWE3EJAnDOitDfgQkCVYHE4899CQOgwX16A5UJAvodLjjvdQkCVYHE4899CQC9uowG84UJAGa2jqgneQkB2/YLdsN1CQHEDPj+M5EJA6DBfXoDlQkAZraOqCd5CQH+fceFA5EJAjGfQ0D/lQkDgLZCg+N1CQApoImx45kJAyFuufmzgQkCMZ9DQP+VCQNVz0vvG40JAvqQxWkfdQkC7RPXWwN5CQOgwX16A5UJAgy9MpgreQkDgLZCg+N1CQOgwX16A5UJA\",\"dtype\":\"float64\",\"order\":\"little\",\"shape\":[69]}],\"lon\":[{\"__ndarray__\":\"L26jAbyZXsA5mE2AYZxewPfuj/eqmV7A2dMOf02aXsC1iZP7HZxewELKT6p9nF7AfVcE/1ufXsAtlbcjnJxewHe+nxovnV7AIHu9++ObXsBDxTh/E5xewIofY+5anF7A6Z/gYkWbXsADIVnABJxewNnTDn9Nml7AL26jAbyZXsAvbqMBvJlewCSvzjEgnV7Aih9j7lqcXsAnLPGAsp1ewE+XxcTmm17AT5fFxOabXsCkU1c+y5dewDY3picsn17AzOmymNiaXsB9VwT/W59ewEjdzr7ynl7AWoEhq1ufXsB3vp8aL51ewIjvxKwXnV7APz+MEB6dXsAge73745tewBU1mIbhnV7Aj+TyH9KdXsAtlbcjnJxewGmR7Xw/nV7AHcnlP6SZXsC6ZvLNNptewIofY+5anF7AIHu9++ObXsAtlbcjnJxewKuy74rgmV7Aq7LviuCZXsCP5PIf0p1ewEPFOH8TnF7ABoGVQ4ucXsB9VwT/W59ewCB7vfvjm17AxzNo6J+eXsB9VwT/W59ewOzAOSNKnV7A9+6P96qZXsA3oRABh5hewHe+nxovnV7AIHu9++ObXsD37o/3qplewB3J5T+kmV7AL26jAbyZXsBpke18P51ewKuy74rgmV7ARdeFH5ycXsAvbqMBvJlewAJIbeLkml7A2dMOf02aXsAvUb01sJ1ewCB7vfvjm17A/0KPGD2dXsBpke18P51ewFRcVfZdmV7A\",\"dtype\":\"float64\",\"order\":\"little\",\"shape\":[69]}],\"marker.color\":[{\"__ndarray__\":\"SZIkSZICpkCrqqqqqq+nQM3MzMzMHKJAAAAAAAA2rUCrqqqqqhWlQEmSJEmSAqZASZIkSZICpkAAAAAAAJWhQAAAAAAAUKNASZIkSZICpkCrqqqqqhWlQAAAAAAAgJ9AAAAAAIC4pUBJkiRJkgKmQKuqqqqqr6dASZIkSZICpkAAAAAAAFCjQAAAAAAA1ptAAAAAAACnpkDNzMzMzFKkQEmSJEmSAqZASZIkSZICpkAAAAAAAHKjQAAAAAAAIKdASZIkSZICpkAAAAAAADCpQEmSJEmSAqZASZIkSZICpkBJkiRJkgKmQFVVVVVV9qNAVVVVVVX2o0BJkiRJkgKmQEmSJEmSAqZAAAAAAACsqkAAAAAAAK+kQAAAAACA1qBAVVVVVVXPpEBVVVVVVfajQM3MzMzMyqhASZIkSZICpkBJkiRJkgKmQJqZmZmZXadAzczMzMwEpkAAAAAAAASjQAAAAACAZ6dASZIkSZICpkBJkiRJkgKmQEmSJEmSAqZASZIkSZICpkBVVVVVVfajQEmSJEmSAqZAzczMzMwcokBJkiRJkgKmQEmSJEmSAqZASZIkSZICpkAAAAAAAJCrQAAAAAAAZqBASZIkSZICpkAAAAAAAKemQEmSJEmSAqZASZIkSZICpkBVVVVVVfajQEmSJEmSAqZAAAAAAACSrEAAAAAAAKejQFVVVVVV9qNAAAAAAACVoUAAAAAAAO6uQFVVVVVV9qNA\",\"dtype\":\"float64\",\"order\":\"little\",\"shape\":[69]}],\"marker.size\":[{\"__ndarray__\":\"cJyd1VTgdkAk1Xd7HVZ3QMu7p//VkmlA/m3ou1d2gkDh3lCz40p8QJMjOSXCpnhA8UR6wAF7ekBgIJwN63N+QHYgjQJQXIJADVduW7bPhEAtmqsjEfByQA42LireL3tABPQiJJZpf0DNvwdH/RGEQIwgrDxBTHhATKx878x1eEBGXRUgYX18QOcoDRF0HXRAyf/3Apx+g0Br5HcBJvuDQEKNqFi3GHxAQJv/3Ow+dkAFP/VX/1NlQPmqSlDEDHhAfmgaicfaeECrA3m3FTuAQN85W0+CqXdAyXixJK7aeUCo3p7PEouAQBsbzgZFn3lA1YI2J6jjfUADLzpc59mAQOt1/4D+PYJAfSK5L8KmiEDjM3wxFTSBQFx/3pp8XohAcr9Bp4mxgUC9Hcljpi56QAabwse6W4BAhQqU+EOjfEAzwd8Vi/OAQA1GhppZunlANYyg6lAkf0A0VzbjjqF0QGONxdbeS25ATpTGpG5QfkBicP8ngaN4QBabFVByjIVAMlaax7lbd0AUODg4wwJ1QGCc43LsxYNAk1Rio9JxdECazArhG7CEQMvN+TvNGoVAb73/oN0Hg0DTKbSOXEllQMmt8u7+UIRAhuHC4SvSgUD/YX/xi4KAQL0KhXgNJIVAiyAuxmBWfUAlEBQx8j+MQEdUUCNnQnlAoAgieXXXckDK9HfV0Cd/QF1rdMb+OHNAQN/mqKGtgEBs0ERas3iFQIOO/MStBYJA\",\"dtype\":\"float64\",\"order\":\"little\",\"shape\":[69]}]},\"selected\":{\"id\":\"6032\"},\"selection_policy\":{\"id\":\"6031\"}},\"id\":\"6007\",\"type\":\"ColumnDataSource\"},{\"attributes\":{\"text\":\"SFOs 10 Most Expensive Neighborhoods\",\"text_color\":{\"value\":\"black\"},\"text_font_size\":{\"value\":\"12pt\"}},\"id\":\"5938\",\"type\":\"Title\"},{\"attributes\":{\"click_policy\":\"mute\",\"items\":[{\"id\":\"5616\"},{\"id\":\"5635\"}],\"location\":[0,0],\"title\":\"Variable\"},\"id\":\"5615\",\"type\":\"Legend\"},{\"attributes\":{\"bottom_units\":\"screen\",\"fill_alpha\":0.5,\"fill_color\":\"lightgrey\",\"left_units\":\"screen\",\"level\":\"overlay\",\"line_alpha\":1.0,\"line_color\":\"black\",\"line_dash\":[4,4],\"line_width\":2,\"right_units\":\"screen\",\"top_units\":\"screen\"},\"id\":\"5587\",\"type\":\"BoxAnnotation\"},{\"attributes\":{},\"id\":\"5633\",\"type\":\"UnionRenderers\"},{\"attributes\":{},\"id\":\"5613\",\"type\":\"UnionRenderers\"},{\"attributes\":{\"fill_color\":{\"value\":\"#30a2da\"},\"top\":{\"field\":\"housing_units\"},\"width\":{\"value\":0.8},\"x\":{\"field\":\"year\"}},\"id\":\"5531\",\"type\":\"VBar\"},{\"attributes\":{\"axis_label\":\"Year\",\"bounds\":\"auto\",\"formatter\":{\"id\":\"5536\"},\"major_label_orientation\":\"horizontal\",\"ticker\":{\"id\":\"5512\"}},\"id\":\"5511\",\"type\":\"LinearAxis\"},{\"attributes\":{\"children\":[{\"id\":\"5863\"}],\"css_classes\":[\"panel-widget-box\"],\"margin\":[5,5,5,5],\"name\":\"WidgetBox10011\"},\"id\":\"5862\",\"type\":\"Column\"},{\"attributes\":{\"active_drag\":\"auto\",\"active_inspect\":\"auto\",\"active_multi\":null,\"active_scroll\":\"auto\",\"active_tap\":\"auto\",\"tools\":[{\"id\":\"5563\"},{\"id\":\"5582\"},{\"id\":\"5583\"},{\"id\":\"5584\"},{\"id\":\"5585\"},{\"id\":\"5586\"}]},\"id\":\"5588\",\"type\":\"Toolbar\"},{\"attributes\":{},\"id\":\"5512\",\"type\":\"BasicTicker\"},{\"attributes\":{},\"id\":\"5504\",\"type\":\"CategoricalScale\"},{\"attributes\":{},\"id\":\"5942\",\"type\":\"CategoricalScale\"},{\"attributes\":{\"children\":[{\"id\":\"5793\"},{\"id\":\"5794\"}],\"margin\":[0,0,0,0],\"name\":\"Column09984\"},\"id\":\"5792\",\"type\":\"Column\"},{\"attributes\":{\"axis_label\":\"Housing Units\",\"bounds\":\"auto\",\"formatter\":{\"id\":\"5537\"},\"major_label_orientation\":\"horizontal\",\"ticker\":{\"id\":\"5509\"}},\"id\":\"5508\",\"type\":\"CategoricalAxis\"},{\"attributes\":{\"margin\":[20,20,20,20],\"min_width\":250,\"options\":[\"Alamo Square\",\"Anza Vista\",\"Bayview\",\"Buena Vista Park\",\"Central Richmond\",\"Central Sunset\",\"Corona Heights\",\"Cow Hollow\",\"Croker Amazon\",\"Diamond Heights\",\"Downtown \",\"Eureka Valley/Dolores Heights\",\"Excelsior\",\"Financial District North\",\"Financial District South\",\"Forest Knolls\",\"Glen Park\",\"Golden Gate Heights\",\"Haight Ashbury\",\"Hayes Valley\",\"Hunters Point\",\"Ingleside \",\"Inner Mission\",\"Inner Parkside\",\"Inner Richmond\",\"Inner Sunset\",\"Jordan Park/Laurel Heights\",\"Lake --The Presidio\",\"Lone Mountain\",\"Lower Pacific Heights\",\"Marina\",\"Miraloma Park\",\"Mission Bay\",\"Mission Dolores\",\"Mission Terrace\",\"Nob Hill\",\"Noe Valley\",\"Oceanview\",\"Outer Parkside\",\"Outer Richmond \",\"Outer Sunset\",\"Pacific Heights\",\"Park North\",\"Parkside\",\"Parnassus/Ashbury Heights\",\"Portola\",\"Potrero Hill\",\"Presidio Heights\",\"Russian Hill\",\"South Beach\",\"South of Market\",\"Sunnyside\",\"Telegraph Hill\",\"Twin Peaks\",\"Union Square District\",\"Van Ness/ Civic Center\",\"West Portal\",\"Western Addition\",\"Yerba Buena\",\"Bernal Heights \",\"Clarendon Heights\",\"Duboce Triangle\",\"Ingleside Heights\",\"North Beach\",\"North Waterfront\",\"Outer Mission\",\"Westwood Highlands\",\"Merced Heights\",\"Midtown Terrace\",\"Visitacion Valley\",\"Silver Terrace\",\"Westwood Park\",\"Bayview Heights\"],\"title\":\"neighborhood\",\"value\":\"Alamo Square\",\"width\":250},\"id\":\"5863\",\"type\":\"Select\"},{\"attributes\":{\"fill_alpha\":{\"value\":0.2},\"fill_color\":{\"value\":\"#30a2da\"},\"line_alpha\":{\"value\":0.2},\"top\":{\"field\":\"housing_units\"},\"width\":{\"value\":0.8},\"x\":{\"field\":\"year\"}},\"id\":\"5533\",\"type\":\"VBar\"},{\"attributes\":{},\"id\":\"5618\",\"type\":\"Selection\"},{\"attributes\":{},\"id\":\"5950\",\"type\":\"BasicTicker\"},{\"attributes\":{\"margin\":[0,0,0,0],\"name\":\"Column10139\"},\"id\":\"5931\",\"type\":\"Column\"},{\"attributes\":{\"line_alpha\":0.1,\"line_color\":\"#30a2da\",\"line_width\":2,\"x\":{\"field\":\"year\"},\"y\":{\"field\":\"value\"}},\"id\":\"5603\",\"type\":\"Line\"},{\"attributes\":{},\"id\":\"5947\",\"type\":\"CategoricalTicker\"},{\"attributes\":{},\"id\":\"5509\",\"type\":\"CategoricalTicker\"},{\"attributes\":{\"callback\":null,\"renderers\":[{\"id\":\"5769\"}],\"tags\":[\"hv_created\"],\"tooltips\":[[\"year\",\"@{year}\"],[\"sale_price_sqr_foot\",\"@{sale_price_sqr_foot}\"]]},\"id\":\"5732\",\"type\":\"HoverTool\"},{\"attributes\":{},\"id\":\"5944\",\"type\":\"LinearScale\"},{\"attributes\":{\"axis\":{\"id\":\"5511\"},\"dimension\":1,\"grid_line_color\":null,\"ticker\":null},\"id\":\"5514\",\"type\":\"Grid\"},{\"attributes\":{\"callback\":null,\"renderers\":[{\"id\":\"5605\"},{\"id\":\"5623\"}],\"tags\":[\"hv_created\"],\"tooltips\":[[\"Variable\",\"@{Variable}\"],[\"year\",\"@{year}\"],[\"value\",\"@{value}\"]]},\"id\":\"5563\",\"type\":\"HoverTool\"},{\"attributes\":{\"data_source\":{\"id\":\"5599\"},\"glyph\":{\"id\":\"5602\"},\"hover_glyph\":null,\"muted_glyph\":{\"id\":\"5604\"},\"nonselection_glyph\":{\"id\":\"5603\"},\"selection_glyph\":null,\"view\":{\"id\":\"5606\"}},\"id\":\"5605\",\"type\":\"GlyphRenderer\"},{\"attributes\":{\"bounds\":\"auto\",\"formatter\":{\"id\":\"5975\"},\"major_label_orientation\":1.5707963267948966,\"ticker\":{\"id\":\"5947\"}},\"id\":\"5946\",\"type\":\"CategoricalAxis\"},{\"attributes\":{\"source\":{\"id\":\"5617\"}},\"id\":\"5624\",\"type\":\"CDSView\"},{\"attributes\":{\"children\":[{\"id\":\"5931\"},{\"id\":\"5932\"}],\"margin\":[0,0,0,0],\"name\":\"Column10105\"},\"id\":\"5930\",\"type\":\"Column\"},{\"attributes\":{\"line_alpha\":0.2,\"line_color\":\"#fc4f30\",\"line_width\":2,\"x\":{\"field\":\"year\"},\"y\":{\"field\":\"value\"}},\"id\":\"5622\",\"type\":\"Line\"},{\"attributes\":{\"axis\":{\"id\":\"5946\"},\"grid_line_color\":null,\"ticker\":null},\"id\":\"5948\",\"type\":\"Grid\"},{\"attributes\":{},\"id\":\"5977\",\"type\":\"BasicTickFormatter\"},{\"attributes\":{\"fill_color\":{\"field\":\"Variable\",\"transform\":{\"id\":\"5966\"}},\"top\":{\"field\":\"value\"},\"width\":{\"value\":0.8},\"x\":{\"field\":\"xoffsets\"}},\"id\":\"5970\",\"type\":\"VBar\"},{\"attributes\":{\"line_alpha\":0.1,\"line_color\":\"#fc4f30\",\"line_width\":2,\"x\":{\"field\":\"year\"},\"y\":{\"field\":\"value\"}},\"id\":\"5621\",\"type\":\"Line\"},{\"attributes\":{\"axis\":{\"id\":\"5949\"},\"dimension\":1,\"grid_line_color\":null,\"ticker\":null},\"id\":\"5952\",\"type\":\"Grid\"},{\"attributes\":{\"data\":{\"Variable\":[\"sale_price_sqr_foot\",\"sale_price_sqr_foot\",\"sale_price_sqr_foot\",\"sale_price_sqr_foot\",\"sale_price_sqr_foot\",\"sale_price_sqr_foot\",\"sale_price_sqr_foot\",\"gross_rent\",\"gross_rent\",\"gross_rent\",\"gross_rent\",\"gross_rent\",\"gross_rent\",\"gross_rent\"],\"value\":{\"__ndarray__\":\"Dkc7WO0yckCafszcbwhxQIGRs5ot42ZAJzog0LQ8eEAWMinKGEd+QI0V5FDt0IJAVCHcmLVPdUAAAAAAAFyTQAAAAAAA6JdAAAAAAAAookAAAAAAADanQAAAAAAAkKtAAAAAAAA2rUAAAAAAACaxQA==\",\"dtype\":\"float64\",\"order\":\"little\",\"shape\":[14]},\"xoffsets\":[[\"2010\",\"sale_price_sqr_foot\"],[\"2011\",\"sale_price_sqr_foot\"],[\"2012\",\"sale_price_sqr_foot\"],[\"2013\",\"sale_price_sqr_foot\"],[\"2014\",\"sale_price_sqr_foot\"],[\"2015\",\"sale_price_sqr_foot\"],[\"2016\",\"sale_price_sqr_foot\"],[\"2010\",\"gross_rent\"],[\"2011\",\"gross_rent\"],[\"2012\",\"gross_rent\"],[\"2013\",\"gross_rent\"],[\"2014\",\"gross_rent\"],[\"2015\",\"gross_rent\"],[\"2016\",\"gross_rent\"]],\"year\":[\"2010\",\"2011\",\"2012\",\"2013\",\"2014\",\"2015\",\"2016\",\"2010\",\"2011\",\"2012\",\"2013\",\"2014\",\"2015\",\"2016\"]},\"selected\":{\"id\":\"5968\"},\"selection_policy\":{\"id\":\"5989\"}},\"id\":\"5967\",\"type\":\"ColumnDataSource\"},{\"attributes\":{},\"id\":\"5989\",\"type\":\"UnionRenderers\"},{\"attributes\":{\"margin\":[0,0,0,0],\"tabs\":[{\"id\":\"5557\"},{\"id\":\"5726\"},{\"id\":\"5791\"},{\"id\":\"5865\"},{\"id\":\"5929\"},{\"id\":\"6003\"},{\"id\":\"6009\"}]},\"id\":\"5492\",\"type\":\"Tabs\"},{\"attributes\":{\"data\":{\"sale_price_sqr_foot\":{\"__ndarray__\":\"tQKjeIIVd0Do7CdydF51QGdijk899nhAaBKk2Jo5fkDGKCTbN2KBQPETFqRSxINAUB33UCbNhUA=\",\"dtype\":\"float64\",\"order\":\"little\",\"shape\":[7]},\"year\":[2010,2011,2012,2013,2014,2015,2016]},\"selected\":{\"id\":\"5764\"},\"selection_policy\":{\"id\":\"5781\"}},\"id\":\"5763\",\"type\":\"ColumnDataSource\"},{\"attributes\":{\"children\":[{\"id\":\"5733\"}],\"margin\":[0,0,0,0],\"name\":\"Row09981\"},\"id\":\"5729\",\"type\":\"Row\"},{\"attributes\":{\"children\":[{\"id\":\"6008\"}],\"margin\":[0,0,0,0],\"name\":\"Row10144\"},\"id\":\"6006\",\"type\":\"Row\"},{\"attributes\":{\"line_alpha\":0.2,\"line_color\":\"#30a2da\",\"line_width\":2,\"x\":{\"field\":\"year\"},\"y\":{\"field\":\"value\"}},\"id\":\"5604\",\"type\":\"Line\"},{\"attributes\":{\"axis_label\":\"\",\"bounds\":\"auto\",\"formatter\":{\"id\":\"5977\"},\"major_label_orientation\":\"horizontal\",\"ticker\":{\"id\":\"5950\"}},\"id\":\"5949\",\"type\":\"LinearAxis\"},{\"attributes\":{\"data_source\":{\"id\":\"5617\"},\"glyph\":{\"id\":\"5620\"},\"hover_glyph\":null,\"muted_glyph\":{\"id\":\"5622\"},\"nonselection_glyph\":{\"id\":\"5621\"},\"selection_glyph\":null,\"view\":{\"id\":\"5624\"}},\"id\":\"5623\",\"type\":\"GlyphRenderer\"},{\"attributes\":{\"fill_alpha\":{\"value\":0.2},\"fill_color\":{\"field\":\"Variable\",\"transform\":{\"id\":\"5966\"}},\"line_alpha\":{\"value\":0.2},\"top\":{\"field\":\"value\"},\"width\":{\"value\":0.8},\"x\":{\"field\":\"xoffsets\"}},\"id\":\"5972\",\"type\":\"VBar\"},{\"attributes\":{\"below\":[{\"id\":\"5508\"}],\"center\":[{\"id\":\"5510\"},{\"id\":\"5514\"}],\"left\":[{\"id\":\"5511\"}],\"margin\":[5,5,5,5],\"min_border_bottom\":10,\"min_border_left\":10,\"min_border_right\":10,\"min_border_top\":10,\"plot_height\":300,\"plot_width\":700,\"renderers\":[{\"id\":\"5534\"}],\"sizing_mode\":\"fixed\",\"title\":{\"id\":\"5500\"},\"toolbar\":{\"id\":\"5521\"},\"x_range\":{\"id\":\"5496\"},\"x_scale\":{\"id\":\"5504\"},\"y_range\":{\"id\":\"5497\"},\"y_scale\":{\"id\":\"5506\"}},\"id\":\"5499\",\"subtype\":\"Figure\",\"type\":\"Plot\"},{\"attributes\":{},\"id\":\"5953\",\"type\":\"SaveTool\"},{\"attributes\":{\"data\":{\"Variable\":[\"gross_rent\",\"gross_rent\",\"gross_rent\",\"gross_rent\",\"gross_rent\",\"gross_rent\",\"gross_rent\"],\"value\":[1239,1530,2324,2971,3528,3739,4390],\"year\":[2010,2011,2012,2013,2014,2015,2016]},\"selected\":{\"id\":\"5618\"},\"selection_policy\":{\"id\":\"5633\"}},\"id\":\"5617\",\"type\":\"ColumnDataSource\"},{\"attributes\":{},\"id\":\"5954\",\"type\":\"PanTool\"},{\"attributes\":{\"axis\":{\"id\":\"5508\"},\"grid_line_color\":null,\"ticker\":null},\"id\":\"5510\",\"type\":\"Grid\"},{\"attributes\":{},\"id\":\"5957\",\"type\":\"ResetTool\"},{\"attributes\":{},\"id\":\"5955\",\"type\":\"WheelZoomTool\"},{\"attributes\":{\"_render_count\":0,\"config\":null,\"data\":[{\"hovertemplate\":\"<b>%{hovertext}</b><br><br>sale_price_sqr_foot=%{marker.size}<br>Lat=%{lat}<br>Lon=%{lon}<br>gross_rent=%{marker.color}<extra></extra>\",\"legendgroup\":\"\",\"marker\":{\"coloraxis\":\"coloraxis\",\"sizemode\":\"area\",\"sizeref\":2.259983144180161},\"mode\":\"markers\",\"name\":\"\",\"showlegend\":false,\"subplot\":\"mapbox\",\"type\":\"scattermapbox\"}],\"data_sources\":[{\"id\":\"6007\"}],\"layout\":{\"coloraxis\":{\"colorbar\":{\"title\":{\"text\":\"gross_rent\"}},\"colorscale\":[[0.0,\"#0d0887\"],[0.1111111111111111,\"#46039f\"],[0.2222222222222222,\"#7201a8\"],[0.3333333333333333,\"#9c179e\"],[0.4444444444444444,\"#bd3786\"],[0.5555555555555556,\"#d8576b\"],[0.6666666666666666,\"#ed7953\"],[0.7777777777777778,\"#fb9f3a\"],[0.8888888888888888,\"#fdca26\"],[1.0,\"#f0f921\"]]},\"legend\":{\"itemsizing\":\"constant\",\"tracegroupgap\":0},\"mapbox\":{\"accesstoken\":\"pk.eyJ1IjoibHZkb25vZnJpbzE0IiwiYSI6ImNrbXRwaTcxbzBxY28yd281cDZzdHpxejQifQ.H200tHkey8wGeWeu0N8Bmw\",\"center\":{\"lat\":37.76064079710145,\"lon\":-122.43826449275363},\"domain\":{\"x\":[0.0,1.0],\"y\":[0.0,1.0]},\"zoom\":10},\"margin\":{\"t\":60},\"template\":{\"data\":{\"bar\":[{\"error_x\":{\"color\":\"#2a3f5f\"},\"error_y\":{\"color\":\"#2a3f5f\"},\"marker\":{\"line\":{\"color\":\"#E5ECF6\",\"width\":0.5}},\"type\":\"bar\"}],\"barpolar\":[{\"marker\":{\"line\":{\"color\":\"#E5ECF6\",\"width\":0.5}},\"type\":\"barpolar\"}],\"carpet\":[{\"aaxis\":{\"endlinecolor\":\"#2a3f5f\",\"gridcolor\":\"white\",\"linecolor\":\"white\",\"minorgridcolor\":\"white\",\"startlinecolor\":\"#2a3f5f\"},\"baxis\":{\"endlinecolor\":\"#2a3f5f\",\"gridcolor\":\"white\",\"linecolor\":\"white\",\"minorgridcolor\":\"white\",\"startlinecolor\":\"#2a3f5f\"},\"type\":\"carpet\"}],\"choropleth\":[{\"colorbar\":{\"outlinewidth\":0,\"ticks\":\"\"},\"type\":\"choropleth\"}],\"contour\":[{\"colorbar\":{\"outlinewidth\":0,\"ticks\":\"\"},\"colorscale\":[[0.0,\"#0d0887\"],[0.1111111111111111,\"#46039f\"],[0.2222222222222222,\"#7201a8\"],[0.3333333333333333,\"#9c179e\"],[0.4444444444444444,\"#bd3786\"],[0.5555555555555556,\"#d8576b\"],[0.6666666666666666,\"#ed7953\"],[0.7777777777777778,\"#fb9f3a\"],[0.8888888888888888,\"#fdca26\"],[1.0,\"#f0f921\"]],\"type\":\"contour\"}],\"contourcarpet\":[{\"colorbar\":{\"outlinewidth\":0,\"ticks\":\"\"},\"type\":\"contourcarpet\"}],\"heatmap\":[{\"colorbar\":{\"outlinewidth\":0,\"ticks\":\"\"},\"colorscale\":[[0.0,\"#0d0887\"],[0.1111111111111111,\"#46039f\"],[0.2222222222222222,\"#7201a8\"],[0.3333333333333333,\"#9c179e\"],[0.4444444444444444,\"#bd3786\"],[0.5555555555555556,\"#d8576b\"],[0.6666666666666666,\"#ed7953\"],[0.7777777777777778,\"#fb9f3a\"],[0.8888888888888888,\"#fdca26\"],[1.0,\"#f0f921\"]],\"type\":\"heatmap\"}],\"heatmapgl\":[{\"colorbar\":{\"outlinewidth\":0,\"ticks\":\"\"},\"colorscale\":[[0.0,\"#0d0887\"],[0.1111111111111111,\"#46039f\"],[0.2222222222222222,\"#7201a8\"],[0.3333333333333333,\"#9c179e\"],[0.4444444444444444,\"#bd3786\"],[0.5555555555555556,\"#d8576b\"],[0.6666666666666666,\"#ed7953\"],[0.7777777777777778,\"#fb9f3a\"],[0.8888888888888888,\"#fdca26\"],[1.0,\"#f0f921\"]],\"type\":\"heatmapgl\"}],\"histogram\":[{\"marker\":{\"colorbar\":{\"outlinewidth\":0,\"ticks\":\"\"}},\"type\":\"histogram\"}],\"histogram2d\":[{\"colorbar\":{\"outlinewidth\":0,\"ticks\":\"\"},\"colorscale\":[[0.0,\"#0d0887\"],[0.1111111111111111,\"#46039f\"],[0.2222222222222222,\"#7201a8\"],[0.3333333333333333,\"#9c179e\"],[0.4444444444444444,\"#bd3786\"],[0.5555555555555556,\"#d8576b\"],[0.6666666666666666,\"#ed7953\"],[0.7777777777777778,\"#fb9f3a\"],[0.8888888888888888,\"#fdca26\"],[1.0,\"#f0f921\"]],\"type\":\"histogram2d\"}],\"histogram2dcontour\":[{\"colorbar\":{\"outlinewidth\":0,\"ticks\":\"\"},\"colorscale\":[[0.0,\"#0d0887\"],[0.1111111111111111,\"#46039f\"],[0.2222222222222222,\"#7201a8\"],[0.3333333333333333,\"#9c179e\"],[0.4444444444444444,\"#bd3786\"],[0.5555555555555556,\"#d8576b\"],[0.6666666666666666,\"#ed7953\"],[0.7777777777777778,\"#fb9f3a\"],[0.8888888888888888,\"#fdca26\"],[1.0,\"#f0f921\"]],\"type\":\"histogram2dcontour\"}],\"mesh3d\":[{\"colorbar\":{\"outlinewidth\":0,\"ticks\":\"\"},\"type\":\"mesh3d\"}],\"parcoords\":[{\"line\":{\"colorbar\":{\"outlinewidth\":0,\"ticks\":\"\"}},\"type\":\"parcoords\"}],\"pie\":[{\"automargin\":true,\"type\":\"pie\"}],\"scatter\":[{\"marker\":{\"colorbar\":{\"outlinewidth\":0,\"ticks\":\"\"}},\"type\":\"scatter\"}],\"scatter3d\":[{\"line\":{\"colorbar\":{\"outlinewidth\":0,\"ticks\":\"\"}},\"marker\":{\"colorbar\":{\"outlinewidth\":0,\"ticks\":\"\"}},\"type\":\"scatter3d\"}],\"scattercarpet\":[{\"marker\":{\"colorbar\":{\"outlinewidth\":0,\"ticks\":\"\"}},\"type\":\"scattercarpet\"}],\"scattergeo\":[{\"marker\":{\"colorbar\":{\"outlinewidth\":0,\"ticks\":\"\"}},\"type\":\"scattergeo\"}],\"scattergl\":[{\"marker\":{\"colorbar\":{\"outlinewidth\":0,\"ticks\":\"\"}},\"type\":\"scattergl\"}],\"scattermapbox\":[{\"marker\":{\"colorbar\":{\"outlinewidth\":0,\"ticks\":\"\"}},\"type\":\"scattermapbox\"}],\"scatterpolar\":[{\"marker\":{\"colorbar\":{\"outlinewidth\":0,\"ticks\":\"\"}},\"type\":\"scatterpolar\"}],\"scatterpolargl\":[{\"marker\":{\"colorbar\":{\"outlinewidth\":0,\"ticks\":\"\"}},\"type\":\"scatterpolargl\"}],\"scatterternary\":[{\"marker\":{\"colorbar\":{\"outlinewidth\":0,\"ticks\":\"\"}},\"type\":\"scatterternary\"}],\"surface\":[{\"colorbar\":{\"outlinewidth\":0,\"ticks\":\"\"},\"colorscale\":[[0.0,\"#0d0887\"],[0.1111111111111111,\"#46039f\"],[0.2222222222222222,\"#7201a8\"],[0.3333333333333333,\"#9c179e\"],[0.4444444444444444,\"#bd3786\"],[0.5555555555555556,\"#d8576b\"],[0.6666666666666666,\"#ed7953\"],[0.7777777777777778,\"#fb9f3a\"],[0.8888888888888888,\"#fdca26\"],[1.0,\"#f0f921\"]],\"type\":\"surface\"}],\"table\":[{\"cells\":{\"fill\":{\"color\":\"#EBF0F8\"},\"line\":{\"color\":\"white\"}},\"header\":{\"fill\":{\"color\":\"#C8D4E3\"},\"line\":{\"color\":\"white\"}},\"type\":\"table\"}]},\"layout\":{\"annotationdefaults\":{\"arrowcolor\":\"#2a3f5f\",\"arrowhead\":0,\"arrowwidth\":1},\"autotypenumbers\":\"strict\",\"coloraxis\":{\"colorbar\":{\"outlinewidth\":0,\"ticks\":\"\"}},\"colorscale\":{\"diverging\":[[0,\"#8e0152\"],[0.1,\"#c51b7d\"],[0.2,\"#de77ae\"],[0.3,\"#f1b6da\"],[0.4,\"#fde0ef\"],[0.5,\"#f7f7f7\"],[0.6,\"#e6f5d0\"],[0.7,\"#b8e186\"],[0.8,\"#7fbc41\"],[0.9,\"#4d9221\"],[1,\"#276419\"]],\"sequential\":[[0.0,\"#0d0887\"],[0.1111111111111111,\"#46039f\"],[0.2222222222222222,\"#7201a8\"],[0.3333333333333333,\"#9c179e\"],[0.4444444444444444,\"#bd3786\"],[0.5555555555555556,\"#d8576b\"],[0.6666666666666666,\"#ed7953\"],[0.7777777777777778,\"#fb9f3a\"],[0.8888888888888888,\"#fdca26\"],[1.0,\"#f0f921\"]],\"sequentialminus\":[[0.0,\"#0d0887\"],[0.1111111111111111,\"#46039f\"],[0.2222222222222222,\"#7201a8\"],[0.3333333333333333,\"#9c179e\"],[0.4444444444444444,\"#bd3786\"],[0.5555555555555556,\"#d8576b\"],[0.6666666666666666,\"#ed7953\"],[0.7777777777777778,\"#fb9f3a\"],[0.8888888888888888,\"#fdca26\"],[1.0,\"#f0f921\"]]},\"colorway\":[\"#636efa\",\"#EF553B\",\"#00cc96\",\"#ab63fa\",\"#FFA15A\",\"#19d3f3\",\"#FF6692\",\"#B6E880\",\"#FF97FF\",\"#FECB52\"],\"font\":{\"color\":\"#2a3f5f\"},\"geo\":{\"bgcolor\":\"white\",\"lakecolor\":\"white\",\"landcolor\":\"#E5ECF6\",\"showlakes\":true,\"showland\":true,\"subunitcolor\":\"white\"},\"hoverlabel\":{\"align\":\"left\"},\"hovermode\":\"closest\",\"mapbox\":{\"style\":\"light\"},\"paper_bgcolor\":\"white\",\"plot_bgcolor\":\"#E5ECF6\",\"polar\":{\"angularaxis\":{\"gridcolor\":\"white\",\"linecolor\":\"white\",\"ticks\":\"\"},\"bgcolor\":\"#E5ECF6\",\"radialaxis\":{\"gridcolor\":\"white\",\"linecolor\":\"white\",\"ticks\":\"\"}},\"scene\":{\"xaxis\":{\"backgroundcolor\":\"#E5ECF6\",\"gridcolor\":\"white\",\"gridwidth\":2,\"linecolor\":\"white\",\"showbackground\":true,\"ticks\":\"\",\"zerolinecolor\":\"white\"},\"yaxis\":{\"backgroundcolor\":\"#E5ECF6\",\"gridcolor\":\"white\",\"gridwidth\":2,\"linecolor\":\"white\",\"showbackground\":true,\"ticks\":\"\",\"zerolinecolor\":\"white\"},\"zaxis\":{\"backgroundcolor\":\"#E5ECF6\",\"gridcolor\":\"white\",\"gridwidth\":2,\"linecolor\":\"white\",\"showbackground\":true,\"ticks\":\"\",\"zerolinecolor\":\"white\"}},\"shapedefaults\":{\"line\":{\"color\":\"#2a3f5f\"}},\"ternary\":{\"aaxis\":{\"gridcolor\":\"white\",\"linecolor\":\"white\",\"ticks\":\"\"},\"baxis\":{\"gridcolor\":\"white\",\"linecolor\":\"white\",\"ticks\":\"\"},\"bgcolor\":\"#E5ECF6\",\"caxis\":{\"gridcolor\":\"white\",\"linecolor\":\"white\",\"ticks\":\"\"}},\"title\":{\"x\":0.05},\"xaxis\":{\"automargin\":true,\"gridcolor\":\"white\",\"linecolor\":\"white\",\"ticks\":\"\",\"title\":{\"standoff\":15},\"zerolinecolor\":\"white\",\"zerolinewidth\":2},\"yaxis\":{\"automargin\":true,\"gridcolor\":\"white\",\"linecolor\":\"white\",\"ticks\":\"\",\"title\":{\"standoff\":15},\"zerolinecolor\":\"white\",\"zerolinewidth\":2}}}},\"margin\":[5,5,5,5],\"name\":\"interactive10140\",\"viewport_update_throttle\":200},\"id\":\"6008\",\"type\":\"panel.models.plotly.PlotlyPlot\"},{\"attributes\":{\"data\":{\"Variable\":[\"sale_price_sqr_foot\",\"sale_price_sqr_foot\",\"sale_price_sqr_foot\",\"sale_price_sqr_foot\",\"sale_price_sqr_foot\",\"sale_price_sqr_foot\",\"sale_price_sqr_foot\"],\"value\":{\"__ndarray__\":\"tQKjeIIVd0Do7CdydF51QGdijk899nhAaBKk2Jo5fkDGKCTbN2KBQPETFqRSxINAUB33UCbNhUA=\",\"dtype\":\"float64\",\"order\":\"little\",\"shape\":[7]},\"year\":[2010,2011,2012,2013,2014,2015,2016]},\"selected\":{\"id\":\"5600\"},\"selection_policy\":{\"id\":\"5613\"}},\"id\":\"5599\",\"type\":\"ColumnDataSource\"},{\"attributes\":{\"overlay\":{\"id\":\"5958\"}},\"id\":\"5956\",\"type\":\"BoxZoomTool\"},{\"attributes\":{\"source\":{\"id\":\"5528\"}},\"id\":\"5535\",\"type\":\"CDSView\"},{\"attributes\":{\"line_color\":\"#30a2da\",\"line_width\":2,\"x\":{\"field\":\"year\"},\"y\":{\"field\":\"value\"}},\"id\":\"5602\",\"type\":\"Line\"},{\"attributes\":{\"children\":[{\"id\":\"5872\"}],\"margin\":[0,0,0,0],\"name\":\"Row10102\"},\"id\":\"5868\",\"type\":\"Row\"},{\"attributes\":{\"overlay\":{\"id\":\"5520\"}},\"id\":\"5518\",\"type\":\"BoxZoomTool\"},{\"attributes\":{\"children\":[{\"id\":\"5867\"},{\"id\":\"5868\"}],\"margin\":[0,0,0,0],\"name\":\"Column10021\"},\"id\":\"5866\",\"type\":\"Column\"},{\"attributes\":{},\"id\":\"5597\",\"type\":\"BasicTickFormatter\"},{\"attributes\":{\"data\":{\"neighborhood\":[\"Union Square District\",\"Merced Heights\",\"Miraloma Park\",\"Pacific Heights\",\"Westwood Park\",\"Telegraph Hill\",\"Presidio Heights\",\"Cow Hollow\",\"Potrero Hill\",\"South Beach\"],\"sale_price_sqr_foot\":{\"__ndarray__\":\"JRAUMfI/jEB9IrkvwqaIQFx/3pp8XohAFpsVUHKMhUBs0ERas3iFQL0KhXgNJIVAy835O80ahUANV25bts+EQJrMCuEbsIRAya3y7v5QhEA=\",\"dtype\":\"float64\",\"order\":\"little\",\"shape\":[10]}},\"selected\":{\"id\":\"5902\"},\"selection_policy\":{\"id\":\"5919\"}},\"id\":\"5901\",\"type\":\"ColumnDataSource\"},{\"attributes\":{},\"id\":\"6032\",\"type\":\"Selection\"},{\"attributes\":{\"children\":[{\"id\":\"5491\"},{\"id\":\"5492\"}],\"margin\":[0,0,0,0],\"name\":\"Column11728\"},\"id\":\"5490\",\"type\":\"Column\"},{\"attributes\":{},\"id\":\"5516\",\"type\":\"PanTool\"},{\"attributes\":{\"child\":{\"id\":\"5493\"},\"name\":\"Column09671\",\"title\":\"Housing Units Per Year\"},\"id\":\"5557\",\"type\":\"Panel\"},{\"attributes\":{\"children\":[{\"id\":\"5795\"}],\"margin\":[0,0,0,0],\"name\":\"Row10018\"},\"id\":\"5794\",\"type\":\"Row\"},{\"attributes\":{\"margin\":[0,0,0,0],\"name\":\"Column10103\"},\"id\":\"5867\",\"type\":\"Column\"},{\"attributes\":{\"margin\":[0,0,0,0],\"name\":\"Column10019\"},\"id\":\"5793\",\"type\":\"Column\"},{\"attributes\":{\"callback\":null,\"renderers\":[{\"id\":\"5907\"}],\"tags\":[\"hv_created\"],\"tooltips\":[[\"neighborhood\",\"@{neighborhood}\"],[\"sale_price_sqr_foot\",\"@{sale_price_sqr_foot}\"]]},\"id\":\"5871\",\"type\":\"HoverTool\"},{\"attributes\":{\"data_source\":{\"id\":\"5528\"},\"glyph\":{\"id\":\"5531\"},\"hover_glyph\":null,\"muted_glyph\":{\"id\":\"5533\"},\"nonselection_glyph\":{\"id\":\"5532\"},\"selection_glyph\":null,\"view\":{\"id\":\"5535\"}},\"id\":\"5534\",\"type\":\"GlyphRenderer\"},{\"attributes\":{\"active_drag\":\"auto\",\"active_inspect\":\"auto\",\"active_multi\":null,\"active_scroll\":\"auto\",\"active_tap\":\"auto\",\"tools\":[{\"id\":\"5936\"},{\"id\":\"5953\"},{\"id\":\"5954\"},{\"id\":\"5955\"},{\"id\":\"5956\"},{\"id\":\"5957\"}]},\"id\":\"5959\",\"type\":\"Toolbar\"},{\"attributes\":{},\"id\":\"5517\",\"type\":\"WheelZoomTool\"},{\"attributes\":{},\"id\":\"5830\",\"type\":\"Selection\"},{\"attributes\":{\"factors\":[\"sale_price_sqr_foot\",\"gross_rent\"],\"palette\":[\"#30a2da\",\"#fc4f30\"]},\"id\":\"5966\",\"type\":\"CategoricalColorMapper\"},{\"attributes\":{\"fill_alpha\":{\"value\":0.1},\"fill_color\":{\"value\":\"#30a2da\"},\"line_alpha\":{\"value\":0.1},\"top\":{\"field\":\"housing_units\"},\"width\":{\"value\":0.8},\"x\":{\"field\":\"year\"}},\"id\":\"5532\",\"type\":\"VBar\"},{\"attributes\":{},\"id\":\"5595\",\"type\":\"BasicTickFormatter\"},{\"attributes\":{\"bottom_units\":\"screen\",\"fill_alpha\":0.5,\"fill_color\":\"lightgrey\",\"left_units\":\"screen\",\"level\":\"overlay\",\"line_alpha\":1.0,\"line_color\":\"black\",\"line_dash\":[4,4],\"line_width\":2,\"right_units\":\"screen\",\"top_units\":\"screen\"},\"id\":\"5958\",\"type\":\"BoxAnnotation\"},{\"attributes\":{},\"id\":\"5515\",\"type\":\"SaveTool\"},{\"attributes\":{\"callback\":null,\"renderers\":[{\"id\":\"5534\"}],\"tags\":[\"hv_created\"],\"tooltips\":[[\"year\",\"@{year}\"],[\"housing_units\",\"@{housing_units}\"]]},\"id\":\"5498\",\"type\":\"HoverTool\"},{\"attributes\":{},\"id\":\"5537\",\"type\":\"CategoricalTickFormatter\"},{\"attributes\":{\"text\":\"Mean Housing Units Per Year\",\"text_color\":{\"value\":\"black\"},\"text_font_size\":{\"value\":\"12pt\"}},\"id\":\"5500\",\"type\":\"Title\"}],\"root_ids\":[\"5490\",\"6163\"]},\"title\":\"Bokeh Application\",\"version\":\"2.2.3\"}};\n",
       "    var render_items = [{\"docid\":\"b29a396d-9668-49cd-a23b-1f88e130b49f\",\"root_ids\":[\"5490\"],\"roots\":{\"5490\":\"e51b831d-6626-4236-b434-9244b8904e2c\"}}];\n",
       "    root.Bokeh.embed.embed_items_notebook(docs_json, render_items);\n",
       "  }\n",
       "  if (root.Bokeh !== undefined && root.Bokeh.Panel !== undefined && root['Plotly'] !== undefined ) {\n",
       "    embed_document(root);\n",
       "  } else {\n",
       "    var attempts = 0;\n",
       "    var timer = setInterval(function(root) {\n",
       "      if (root.Bokeh !== undefined && root.Bokeh.Panel !== undefined && root['Plotly'] !== undefined) {\n",
       "        clearInterval(timer);\n",
       "        embed_document(root);\n",
       "      } else if (document.readyState == \"complete\") {\n",
       "        attempts++;\n",
       "        if (attempts > 100) {\n",
       "          clearInterval(timer);\n",
       "          console.log(\"Bokeh: ERROR: Unable to run BokehJS code because BokehJS library is missing\");\n",
       "        }\n",
       "      }\n",
       "    }, 10, root)\n",
       "  }\n",
       "})(window);</script>"
      ],
      "text/plain": [
       "Column\n",
       "    [0] Markdown(str)\n",
       "    [1] Tabs\n",
       "        [0] Column\n",
       "            [0] Column()\n",
       "            [1] Row\n",
       "                [0] HoloViews(Bars, name='interactive09670')\n",
       "        [1] Column\n",
       "            [0] Column()\n",
       "            [1] Row\n",
       "                [0] HoloViews(NdOverlay, name='interactive09796')\n",
       "        [2] Column\n",
       "            [0] Column()\n",
       "            [1] Row\n",
       "                [0] HoloViews(Curve, name='interactive09901')\n",
       "        [3] Column\n",
       "            [0] Column()\n",
       "            [1] Row\n",
       "                [0] Row(name='interactive09983')\n",
       "                    [0] HoloViews(DynamicMap, name='interactive09983')\n",
       "                    [1] Column\n",
       "                        [0] WidgetBox\n",
       "                            [0] Select(margin=(20, 20, 20, 20), name='neighborhood', options=['Alamo Square', ...], value='Alamo Square', width=250)\n",
       "                        [1] VSpacer()\n",
       "        [4] Column\n",
       "            [0] Column()\n",
       "            [1] Row\n",
       "                [0] HoloViews(Bars, name='interactive10020')\n",
       "        [5] Column\n",
       "            [0] Column()\n",
       "            [1] Row\n",
       "                [0] Row(name='interactive10104')\n",
       "                    [0] HoloViews(DynamicMap, name='interactive10104')\n",
       "                    [1] Column\n",
       "                        [0] WidgetBox\n",
       "                            [0] Select(margin=(20, 20, 20, 20), name='neighborhood', options=['Alamo Square', ...], value='Alamo Square', width=250)\n",
       "                        [1] VSpacer()\n",
       "        [6] Column\n",
       "            [0] Column()\n",
       "            [1] Row\n",
       "                [0] Plotly(Figure, name='interactive10140', relayout_data={'mapbox.center': {'lon': ...})"
      ]
     },
     "execution_count": 73,
     "metadata": {
      "application/vnd.holoviews_exec.v0+json": {
       "id": "5490"
      }
     },
     "output_type": "execute_result"
    }
   ],
   "source": [
    "## Serve the Panel Dashboard\n",
    "column.servable()"
   ]
  },
  {
   "cell_type": "code",
   "execution_count": 77,
   "metadata": {},
   "outputs": [
    {
     "name": "stderr",
     "output_type": "stream",
     "text": [
      "2021-03-29 02:17:40,805 Starting Bokeh server version 2.2.3 (running on Tornado 6.0.4)\n",
      "2021-03-29 02:17:40,805 Cannot start Bokeh server, port 5006 is already in use\n"
     ]
    }
   ],
   "source": [
    "# Serve the# dashboard\n",
    "!panel serve dashboard.ipynb --log-level debug --show"
   ]
  },
  {
   "cell_type": "code",
   "execution_count": null,
   "metadata": {},
   "outputs": [],
   "source": []
  }
 ],
 "metadata": {
  "file_extension": ".py",
  "kernelspec": {
   "display_name": "Python [conda env:pyvizenv] *",
   "language": "python",
   "name": "conda-env-pyvizenv-py"
  },
  "language_info": {
   "codemirror_mode": {
    "name": "ipython",
    "version": 3
   },
   "file_extension": ".py",
   "mimetype": "text/x-python",
   "name": "python",
   "nbconvert_exporter": "python",
   "pygments_lexer": "ipython3",
   "version": "3.7.9"
  },
  "mimetype": "text/x-python",
  "name": "python",
  "npconvert_exporter": "python",
  "pygments_lexer": "ipython3",
  "version": 3
 },
 "nbformat": 4,
 "nbformat_minor": 4
}
